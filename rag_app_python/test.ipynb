{
 "cells": [
  {
   "cell_type": "code",
   "execution_count": 3,
   "metadata": {},
   "outputs": [],
   "source": [
    "from src.app.utils import init_llm, init_vector_store\n",
    "from langchain import hub\n",
    "from langchain_core.output_parsers import StrOutputParser\n",
    "from langchain_core.runnables import RunnablePassthrough"
   ]
  },
  {
   "cell_type": "code",
   "execution_count": 4,
   "metadata": {},
   "outputs": [
    {
     "name": "stderr",
     "output_type": "stream",
     "text": [
      "Fetching 5 files: 100%|██████████| 5/5 [00:00<?, ?it/s]\n",
      "INFO:httpx:HTTP Request: GET http://localhost:6333/collections/tbibi_app_rag_app_chat \"HTTP/1.1 200 OK\"\n"
     ]
    }
   ],
   "source": [
    "llm = init_llm()\n",
    "vector_store = init_vector_store()"
   ]
  },
  {
   "cell_type": "code",
   "execution_count": 6,
   "metadata": {},
   "outputs": [
    {
     "name": "stderr",
     "output_type": "stream",
     "text": [
      "c:\\Users\\Amine\\anaconda3\\envs\\tbibi_rag\\Lib\\site-packages\\langsmith\\client.py:312: LangSmithMissingAPIKeyWarning: API key must be provided when using hosted LangSmith API\n",
      "  warnings.warn(\n",
      "INFO:httpx:HTTP Request: POST http://localhost:6333/collections/tbibi_app_rag_app_chat/points/query \"HTTP/1.1 200 OK\"\n",
      "INFO:httpx:HTTP Request: POST https://api.openai.com/v1/chat/completions \"HTTP/1.1 200 OK\"\n"
     ]
    },
    {
     "data": {
      "text/plain": [
       "\"Amine Mekki is a machine learning engineer with a background in computer science and biomedical engineering. He has worked in various roles, including data scientist at Sanofi and Vaisala, and MLOps engineer at Ecole des Mines d'Alès. He holds MSc degrees in Computer Science & Machine Learning from IMT Mines Alès and Biomedical Engineering from the University of Montpellier.\""
      ]
     },
     "execution_count": 6,
     "metadata": {},
     "output_type": "execute_result"
    },
    {
     "ename": "",
     "evalue": "",
     "output_type": "error",
     "traceback": [
      "\u001b[1;31mThe Kernel crashed while executing code in the current cell or a previous cell. \n",
      "\u001b[1;31mPlease review the code in the cell(s) to identify a possible cause of the failure. \n",
      "\u001b[1;31mClick <a href='https://aka.ms/vscodeJupyterKernelCrash'>here</a> for more info. \n",
      "\u001b[1;31mView Jupyter <a href='command:jupyter.viewOutput'>log</a> for further details."
     ]
    }
   ],
   "source": [
    "retriever = vector_store.as_retriever()\n",
    "prompt = hub.pull(\"rlm/rag-prompt\")\n",
    "\n",
    "\n",
    "def format_docs(docs):\n",
    "    return \"\\n\\n\".join(doc.page_content for doc in docs)\n",
    "\n",
    "\n",
    "rag_chain = (\n",
    "    {\"context\": retriever | format_docs, \"question\": RunnablePassthrough()}\n",
    "    | prompt\n",
    "    | llm\n",
    "    | StrOutputParser()\n",
    ")\n",
    "\n",
    "rag_chain.invoke(\"Who is amine mekki ?\")"
   ]
  },
  {
   "cell_type": "code",
   "execution_count": 2,
   "metadata": {},
   "outputs": [
    {
     "name": "stdout",
     "output_type": "stream",
     "text": [
      "Collecting pandas\n",
      "  Using cached pandas-2.2.2-cp311-cp311-win_amd64.whl.metadata (19 kB)\n",
      "Requirement already satisfied: numpy>=1.23.2 in c:\\users\\amine\\anaconda3\\envs\\tbibi_rag\\lib\\site-packages (from pandas) (1.26.1)\n",
      "Requirement already satisfied: python-dateutil>=2.8.2 in c:\\users\\amine\\anaconda3\\envs\\tbibi_rag\\lib\\site-packages (from pandas) (2.9.0)\n",
      "Collecting pytz>=2020.1 (from pandas)\n",
      "  Downloading pytz-2024.2-py2.py3-none-any.whl.metadata (22 kB)\n",
      "Collecting tzdata>=2022.7 (from pandas)\n",
      "  Using cached tzdata-2024.1-py2.py3-none-any.whl.metadata (1.4 kB)\n",
      "Requirement already satisfied: six>=1.5 in c:\\users\\amine\\anaconda3\\envs\\tbibi_rag\\lib\\site-packages (from python-dateutil>=2.8.2->pandas) (1.16.0)\n",
      "Using cached pandas-2.2.2-cp311-cp311-win_amd64.whl (11.6 MB)\n",
      "Downloading pytz-2024.2-py2.py3-none-any.whl (508 kB)\n",
      "Using cached tzdata-2024.1-py2.py3-none-any.whl (345 kB)\n",
      "Installing collected packages: pytz, tzdata, pandas\n",
      "Successfully installed pandas-2.2.2 pytz-2024.2 tzdata-2024.1\n",
      "Note: you may need to restart the kernel to use updated packages.\n"
     ]
    }
   ],
   "source": [
    "pip install pandas\n"
   ]
  },
  {
   "cell_type": "code",
   "execution_count": 3,
   "metadata": {},
   "outputs": [],
   "source": [
    "import pandas as pd\n",
    "a = {\n",
    "    \"a\" : [1,2,3],\n",
    "    \"b\" : [4,5,6]\n",
    "}\n",
    "\n",
    "dt = pd.DataFrame(a)"
   ]
  },
  {
   "cell_type": "code",
   "execution_count": 8,
   "metadata": {},
   "outputs": [
    {
     "data": {
      "text/plain": [
       "(array([[2]]),\n",
       " array([[6],\n",
       "        [4]]),\n",
       " array([[ 5, -1],\n",
       "        [ 3,  1]]))"
      ]
     },
     "execution_count": 8,
     "metadata": {},
     "output_type": "execute_result"
    }
   ],
   "source": [
    "import numpy as np\n",
    "\n",
    "# Defining the matrices\n",
    "A = np.array([[1, 1, 2]])\n",
    "B = np.array([[1], [-1], [1]])\n",
    "C = np.array([[1, 3, 1], [1, 1, 1]])\n",
    "D = np.array([[0, 1], [1, -1], [2, 1]])\n",
    "E = np.array([[5, -1], [3, 1]])\n",
    "\n",
    "# Performing the calculations for the assertions\n",
    "\n",
    "# 1. A + B cannot be performed as they have incompatible shapes, skipping this.\n",
    "# 2. AB multiplication\n",
    "AB = np.dot(A, B)\n",
    "\n",
    "# 3. CA multiplication\n",
    "CA = np.dot(C, A.T)\n",
    "\n",
    "# 4. CD multiplication\n",
    "CD = np.dot(C, D)\n",
    "\n",
    "AB, CA, CD"
   ]
  },
  {
   "cell_type": "code",
   "execution_count": 9,
   "metadata": {},
   "outputs": [
    {
     "data": {
      "text/plain": [
       "(array([[ 5,  5,  1],\n",
       "        [ 1,  3, 13],\n",
       "        [-1,  1,  2]]),\n",
       " array([[ 0,  0,  3],\n",
       "        [-2, -1, -1],\n",
       "        [ 2, -2,  1]]),\n",
       " array([[ 0,  4,  2],\n",
       "        [-3,  1,  1],\n",
       "        [-1,  1, -4]]),\n",
       " array([[-1,  2,  3],\n",
       "        [ 3, -2,  7],\n",
       "        [-2, -1,  0]]))"
      ]
     },
     "execution_count": 9,
     "metadata": {},
     "output_type": "execute_result"
    }
   ],
   "source": [
    "# Defining the matrices A and B\n",
    "A = np.array([[1, 1, 2], [-1, 0, 2], [1, -1, 1]])\n",
    "B = np.array([[1, 1, -1], [1, 1, 3], [-1, 1, 0]])\n",
    "\n",
    "# 1. Calculate 2A + 3B\n",
    "A_2B_3 = 2 * A + 3 * B\n",
    "\n",
    "# 2. Calculate A - B\n",
    "A_minus_B = A - B\n",
    "\n",
    "# 3. Calculate AB (matrix multiplication)\n",
    "AB = np.dot(A, B)\n",
    "\n",
    "# 4. Calculate BA (matrix multiplication)\n",
    "BA = np.dot(B, A)\n",
    "\n",
    "A_2B_3, A_minus_B, AB, BA"
   ]
  },
  {
   "cell_type": "code",
   "execution_count": 21,
   "metadata": {},
   "outputs": [
    {
     "data": {
      "text/plain": [
       "(array([[2]]), array([[1, 3, 3]]))"
      ]
     },
     "execution_count": 21,
     "metadata": {},
     "output_type": "execute_result"
    }
   ],
   "source": [
    "A = np.array([1, 2, 4])\n",
    "B = np.array([[0], [1], [-1]])\n",
    "C = np.array([[1, -1, 1], [0, 0, 1]])\n",
    "D = np.array([[1, -1, 0], [2, 1, 1], [0, 2, 1]])\n",
    "\n",
    "# 1. Calculate A + B^T\n",
    "A_plus_B_T = A + B.T\n",
    "\n",
    "# 2. Calculate B^T * B\n",
    "B_T_B = np.dot(B.T, B)\n",
    "\n",
    "B_T_B, A_plus_B_T"
   ]
  },
  {
   "cell_type": "code",
   "execution_count": 20,
   "metadata": {},
   "outputs": [
    {
     "ename": "ValueError",
     "evalue": "shapes (3,) and (2,3) not aligned: 3 (dim 0) != 2 (dim 0)",
     "output_type": "error",
     "traceback": [
      "\u001b[1;31m---------------------------------------------------------------------------\u001b[0m",
      "\u001b[1;31mValueError\u001b[0m                                Traceback (most recent call last)",
      "Cell \u001b[1;32mIn[20], line 2\u001b[0m\n\u001b[0;32m      1\u001b[0m \u001b[38;5;66;03m# 3. Calculate A^T * C\u001b[39;00m\n\u001b[1;32m----> 2\u001b[0m A_T_C \u001b[38;5;241m=\u001b[39m \u001b[43mnp\u001b[49m\u001b[38;5;241;43m.\u001b[39;49m\u001b[43mdot\u001b[49m\u001b[43m(\u001b[49m\u001b[43mA\u001b[49m\u001b[38;5;241;43m.\u001b[39;49m\u001b[43mT\u001b[49m\u001b[43m,\u001b[49m\u001b[43m \u001b[49m\u001b[43mC\u001b[49m\u001b[43m)\u001b[49m\n\u001b[0;32m      4\u001b[0m \u001b[38;5;66;03m# 4. Calculate C^T * D\u001b[39;00m\n\u001b[0;32m      5\u001b[0m C_T_D \u001b[38;5;241m=\u001b[39m np\u001b[38;5;241m.\u001b[39mdot(C\u001b[38;5;241m.\u001b[39mT, D)\n",
      "\u001b[1;31mValueError\u001b[0m: shapes (3,) and (2,3) not aligned: 3 (dim 0) != 2 (dim 0)"
     ]
    }
   ],
   "source": [
    "# 3. Calculate A^T * C\n",
    "A_T_C = np.dot(A.T, C)\n",
    "\n",
    "# 4. Calculate C^T * D\n",
    "C_T_D = np.dot(C.T, D)\n",
    "\n",
    "A_plus_B_T, B_T_B, A_T_C, C_T_D"
   ]
  }
 ],
 "metadata": {
  "kernelspec": {
   "display_name": "tbibi_rag",
   "language": "python",
   "name": "python3"
  },
  "language_info": {
   "codemirror_mode": {
    "name": "ipython",
    "version": 3
   },
   "file_extension": ".py",
   "mimetype": "text/x-python",
   "name": "python",
   "nbconvert_exporter": "python",
   "pygments_lexer": "ipython3",
   "version": "3.11.9"
  }
 },
 "nbformat": 4,
 "nbformat_minor": 2
}
